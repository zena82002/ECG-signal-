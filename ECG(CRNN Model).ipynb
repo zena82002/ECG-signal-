{
 "cells": [
  {
   "cell_type": "code",
   "execution_count": 1,
   "id": "8667c8b5-8b41-4346-99dc-09d51d75cb10",
   "metadata": {},
   "outputs": [],
   "source": [
    "import numpy as np\n",
    "import pandas as pd\n",
    "import matplotlib.pyplot as plt\n",
    "import wfdb \n",
    "from collections import Counter\n",
    "from sklearn.preprocessing import LabelEncoder\n",
    "from imblearn.over_sampling import SMOTENC\n",
    "from sklearn.model_selection import StratifiedKFold\n",
    "#from ecgdetectors import Detectors\n",
    "import pandas as pd"
   ]
  },
  {
   "cell_type": "code",
   "execution_count": 2,
   "id": "4922db7f-d5dd-44ad-b097-9bca80738a07",
   "metadata": {},
   "outputs": [
    {
     "name": "stdout",
     "output_type": "stream",
     "text": [
      "   ecg_id  patient_id   age  sex  height  weight  nurse  site      device  \\\n",
      "0    4759      3250.0  39.0    1   180.0   116.0    NaN  41.0  AT-6 C 5.5   \n",
      "1    9278     19350.0  60.0    1     NaN     NaN    0.0   0.0  CS100    3   \n",
      "2   13398     20811.0  65.0    1     NaN     NaN    1.0   2.0       CS-12   \n",
      "3   11144      1160.0  55.0    0   183.0    77.0    5.0   1.0  AT-6     6   \n",
      "4     399     15234.0  40.0    0     NaN    85.0    2.0   0.0   CS-12   E   \n",
      "\n",
      "        recording_date  ... validated_by_human baseline_drift static_noise  \\\n",
      "0  1990-08-11 14:18:54  ...               True            NaN          NaN   \n",
      "1  1992-11-03 12:04:22  ...              False            NaN          NaN   \n",
      "2  1994-11-29 11:34:41  ...               True            NaN          NaN   \n",
      "3  1993-10-02 07:45:26  ...               True           , v1          NaN   \n",
      "4  1987-01-17 14:16:48  ...               True            NaN          NaN   \n",
      "\n",
      "  burst_noise electrodes_problems  extra_beats  pacemaker  strat_fold  \\\n",
      "0         NaN                 NaN          NaN        NaN           5   \n",
      "1         NaN                 NaN          NaN        NaN           7   \n",
      "2         NaN                 NaN          NaN        NaN          10   \n",
      "3         NaN                 NaN          NaN        NaN          10   \n",
      "4         NaN                 NaN          NaN        NaN           4   \n",
      "\n",
      "                 filename_lr                filename_hr  \n",
      "0  records100/04000/04759_lr  records500/04000/04759_hr  \n",
      "1  records100/09000/09278_lr  records500/09000/09278_hr  \n",
      "2  records100/13000/13398_lr  records500/13000/13398_hr  \n",
      "3  records100/11000/11144_lr  records500/11000/11144_hr  \n",
      "4  records100/00000/00399_lr  records500/00000/00399_hr  \n",
      "\n",
      "[5 rows x 28 columns]\n"
     ]
    }
   ],
   "source": [
    "datasetdf_path = 'New data.csv'\n",
    "# Read dataset into a DataFrame\n",
    "datasetdf_df = pd.read_csv(datasetdf_path)\n",
    "\n",
    "# Display the first few rows of the DataFrame\n",
    "print(datasetdf_df.head())"
   ]
  },
  {
   "cell_type": "markdown",
   "id": "9a1e379b-4f16-4c55-80e5-f1f7400bf7a6",
   "metadata": {},
   "source": [
    "#Code"
   ]
  },
  {
   "cell_type": "markdown",
   "id": "06873073-bab6-4e44-8c2a-20b89c84cc17",
   "metadata": {},
   "source": [
    "###Code"
   ]
  },
  {
   "cell_type": "raw",
   "id": "d6e8eb51-e93f-4280-a1e4-c4f80ea20a6d",
   "metadata": {},
   "source": [
    "Code"
   ]
  },
  {
   "cell_type": "code",
   "execution_count": 3,
   "id": "fd2edab7-48f5-4fa0-b9a7-38ac51efe677",
   "metadata": {},
   "outputs": [],
   "source": [
    "def collect_and_label(dataset):\n",
    "    # Collect only the MI classes and the NORM classes from the dataset.\n",
    "    df = pd.read_csv(dataset)\n",
    "    alpha = df['scp_codes'].str.split(\"'\").str[1].str[-2:] == 'MI'  # Collect all the MI classes.\n",
    "    beta = df['scp_codes'].str.split(\"'\").str[1] == 'NORM'  # Collect all the Normal classes.\n",
    "    df = df[alpha | beta]\n",
    "    df['label'] = df['scp_codes'].str.split(\"'\").str[1]  # Create a new column 'label' containing categorical labels.\n",
    "\n",
    "    return df"
   ]
  },
  {
   "cell_type": "code",
   "execution_count": 4,
   "id": "d2f2b2f5-4f5e-463e-a9b8-6c802f4aa203",
   "metadata": {},
   "outputs": [
    {
     "name": "stdout",
     "output_type": "stream",
     "text": [
      "   ecg_id  patient_id   age  sex  height  weight  nurse  site      device  \\\n",
      "0    4759      3250.0  39.0    1   180.0   116.0    NaN  41.0  AT-6 C 5.5   \n",
      "1    9278     19350.0  60.0    1     NaN     NaN    0.0   0.0  CS100    3   \n",
      "2   13398     20811.0  65.0    1     NaN     NaN    1.0   2.0       CS-12   \n",
      "3   11144      1160.0  55.0    0   183.0    77.0    5.0   1.0  AT-6     6   \n",
      "4     399     15234.0  40.0    0     NaN    85.0    2.0   0.0   CS-12   E   \n",
      "\n",
      "        recording_date  ... baseline_drift static_noise burst_noise  \\\n",
      "0  1990-08-11 14:18:54  ...            NaN          NaN         NaN   \n",
      "1  1992-11-03 12:04:22  ...            NaN          NaN         NaN   \n",
      "2  1994-11-29 11:34:41  ...            NaN          NaN         NaN   \n",
      "3  1993-10-02 07:45:26  ...           , v1          NaN         NaN   \n",
      "4  1987-01-17 14:16:48  ...            NaN          NaN         NaN   \n",
      "\n",
      "  electrodes_problems extra_beats  pacemaker  strat_fold  \\\n",
      "0                 NaN         NaN        NaN           5   \n",
      "1                 NaN         NaN        NaN           7   \n",
      "2                 NaN         NaN        NaN          10   \n",
      "3                 NaN         NaN        NaN          10   \n",
      "4                 NaN         NaN        NaN           4   \n",
      "\n",
      "                 filename_lr                filename_hr label  \n",
      "0  records100/04000/04759_lr  records500/04000/04759_hr  NORM  \n",
      "1  records100/09000/09278_lr  records500/09000/09278_hr  NORM  \n",
      "2  records100/13000/13398_lr  records500/13000/13398_hr  NORM  \n",
      "3  records100/11000/11144_lr  records500/11000/11144_hr  NORM  \n",
      "4  records100/00000/00399_lr  records500/00000/00399_hr  NORM  \n",
      "\n",
      "[5 rows x 29 columns]\n"
     ]
    }
   ],
   "source": [
    "df_labeled = collect_and_label('New data.csv')\n",
    "print(df_labeled.head())"
   ]
  },
  {
   "cell_type": "code",
   "execution_count": 5,
   "id": "c339ba2d-6b91-41e3-b2e8-6a8f7a34f7a2",
   "metadata": {},
   "outputs": [
    {
     "name": "stdout",
     "output_type": "stream",
     "text": [
      "Label 'NORM' has 2232 records.\n",
      "Label 'IMI' has 1943 records.\n",
      "Label 'ASMI' has 232 records.\n",
      "Label 'PMI' has 1 records.\n",
      "Label 'AMI' has 41 records.\n",
      "Label 'ALMI' has 8 records.\n",
      "Label 'LMI' has 1 records.\n"
     ]
    }
   ],
   "source": [
    "label_counts = Counter(df_labeled['label'])\n",
    "for label, count in label_counts.items():\n",
    "    print(f\"Label '{label}' has {count} records.\")"
   ]
  },
  {
   "cell_type": "code",
   "execution_count": 6,
   "id": "db0a110e-982e-4dfb-b084-7afbf77e3f6e",
   "metadata": {},
   "outputs": [
    {
     "data": {
      "image/png": "[encoded data removed]",
      "text/plain": [
       "<Figure size 640x480 with 1 Axes>"
      ]
     },
     "metadata": {},
     "output_type": "display_data"
    }
   ],
   "source": [
    "plt.bar(label_counts.keys(), label_counts.values())\n",
    "plt.xlabel('Classes')\n",
    "plt.ylabel('Frequency')\n",
    "plt.title('Frequency of Each Class in the Dataset')\n",
    "plt.show()"
   ]
  },
  {
   "cell_type": "code",
   "execution_count": 7,
   "id": "925eaee6-aa73-449f-97e1-7916e3c05f28",
   "metadata": {},
   "outputs": [
    {
     "name": "stdout",
     "output_type": "stream",
     "text": [
      "   ecg_id  patient_id   age  sex  height  weight  nurse  site      device  \\\n",
      "0    4759      3250.0  39.0    1   180.0   116.0    NaN  41.0  AT-6 C 5.5   \n",
      "1    9278     19350.0  60.0    1     NaN     NaN    0.0   0.0  CS100    3   \n",
      "2   13398     20811.0  65.0    1     NaN     NaN    1.0   2.0       CS-12   \n",
      "3   11144      1160.0  55.0    0   183.0    77.0    5.0   1.0  AT-6     6   \n",
      "4     399     15234.0  40.0    0     NaN    85.0    2.0   0.0   CS-12   E   \n",
      "\n",
      "        recording_date  ... baseline_drift static_noise burst_noise  \\\n",
      "0  1990-08-11 14:18:54  ...            NaN          NaN         NaN   \n",
      "1  1992-11-03 12:04:22  ...            NaN          NaN         NaN   \n",
      "2  1994-11-29 11:34:41  ...            NaN          NaN         NaN   \n",
      "3  1993-10-02 07:45:26  ...           , v1          NaN         NaN   \n",
      "4  1987-01-17 14:16:48  ...            NaN          NaN         NaN   \n",
      "\n",
      "  electrodes_problems extra_beats  pacemaker  strat_fold  \\\n",
      "0                 NaN         NaN        NaN           5   \n",
      "1                 NaN         NaN        NaN           7   \n",
      "2                 NaN         NaN        NaN          10   \n",
      "3                 NaN         NaN        NaN          10   \n",
      "4                 NaN         NaN        NaN           4   \n",
      "\n",
      "                 filename_lr                filename_hr label  \n",
      "0  records100/04000/04759_lr  records500/04000/04759_hr  NORM  \n",
      "1  records100/09000/09278_lr  records500/09000/09278_hr  NORM  \n",
      "2  records100/13000/13398_lr  records500/13000/13398_hr  NORM  \n",
      "3  records100/11000/11144_lr  records500/11000/11144_hr  NORM  \n",
      "4  records100/00000/00399_lr  records500/00000/00399_hr  NORM  \n",
      "\n",
      "[5 rows x 29 columns]\n"
     ]
    }
   ],
   "source": [
    "import pandas as pd\n",
    "\n",
    "# Assuming your dataset is stored in a DataFrame called 'df'\n",
    "# and the label column is named 'label'\n",
    "\n",
    "# Filter the data to include only records with labels 'NORM' and 'IMI'\n",
    "data = df_labeled[df_labeled['label'].isin(['NORM', 'IMI'])]\n",
    "\n",
    "# Display the first few rows of the filtered data to verify\n",
    "print(data.head())"
   ]
  },
  {
   "cell_type": "code",
   "execution_count": 8,
   "id": "2a687b11-cf39-4af4-bf54-28d41e6084ef",
   "metadata": {},
   "outputs": [
    {
     "name": "stdout",
     "output_type": "stream",
     "text": [
      "Label 'NORM' has 2232 records.\n",
      "Label 'IMI' has 1943 records.\n"
     ]
    }
   ],
   "source": [
    "label_counts = Counter(data['label'])\n",
    "for label, count in label_counts.items():\n",
    "    print(f\"Label '{label}' has {count} records.\")"
   ]
  },
  {
   "cell_type": "code",
   "execution_count": 9,
   "id": "b55b7b94-6301-4ae9-bd6b-d5716af94373",
   "metadata": {},
   "outputs": [],
   "source": [
    "from sklearn.preprocessing import LabelEncoder\n",
    "from imblearn.over_sampling import SMOTENC\n",
    "import pandas as pd\n",
    "\n",
    "def balance_and_augment(df):\n",
    "    # Augment the dataset\n",
    "    smote_nc = SMOTENC(categorical_features=[1], random_state=0)\n",
    "    X_res, y_res = smote_nc.fit_resample(df[['ecg_id', 'filename_hr']].to_numpy(), df['label'])\n",
    "    df_balanced = pd.DataFrame(X_res, columns=['ecg_id', 'filename_hr'])\n",
    "    df_balanced['label'] = y_res\n",
    "\n",
    "    return df_balanced"
   ]
  },
  {
   "cell_type": "code",
   "execution_count": 10,
   "id": "0301b2a5-158e-44a7-9144-2d19827e4e51",
   "metadata": {},
   "outputs": [
    {
     "name": "stdout",
     "output_type": "stream",
     "text": [
      "    ecg_id                filename_hr label\n",
      "0   4759.0  records500/04000/04759_hr  NORM\n",
      "1   9278.0  records500/09000/09278_hr  NORM\n",
      "2  13398.0  records500/13000/13398_hr  NORM\n",
      "3  11144.0  records500/11000/11144_hr  NORM\n",
      "4    399.0  records500/00000/00399_hr  NORM\n"
     ]
    }
   ],
   "source": [
    "# Collecting and labeling dataset\n",
    "df_labeled = collect_and_label('ptbxl_database.csv')\n",
    "\n",
    "# Balancing and augmenting the dataset\n",
    "df_balanced_and_augmented = balance_and_augment(data)\n",
    "\n",
    "# Printing the first few rows of the resulting DataFrame\n",
    "print(df_balanced_and_augmented.head())"
   ]
  },
  {
   "cell_type": "code",
   "execution_count": 11,
   "id": "4af5267a-2e9c-4b9f-ab5b-4fb7b062677f",
   "metadata": {
    "scrolled": true
   },
   "outputs": [
    {
     "name": "stdout",
     "output_type": "stream",
     "text": [
      "Label 'NORM' has 2232 records.\n",
      "Label 'IMI' has 2232 records.\n"
     ]
    }
   ],
   "source": [
    "label_counts = Counter(df_balanced_and_augmented['label'])\n",
    "for label, count in label_counts.items():\n",
    "    print(f\"Label '{label}' has {count} records.\")"
   ]
  },
  {
   "cell_type": "code",
   "execution_count": 12,
   "id": "7dc838c2-d918-475a-8a49-71e18cb1b7e8",
   "metadata": {},
   "outputs": [],
   "source": [
    "df_balanced_and_augmented=df_balanced_and_augmented.sample(frac = 1 , ignore_index=True, random_state=123)"
   ]
  },
  {
   "cell_type": "code",
   "execution_count": 13,
   "id": "f29e13e1-0843-4275-be08-d9dfad67ce4c",
   "metadata": {},
   "outputs": [
    {
     "data": {
      "text/html": [
       "<div>\n",
       "<style scoped>\n",
       "    .dataframe tbody tr th:only-of-type {\n",
       "        vertical-align: middle;\n",
       "    }\n",
       "\n",
       "    .dataframe tbody tr th {\n",
       "        vertical-align: top;\n",
       "    }\n",
       "\n",
       "    .dataframe thead th {\n",
       "        text-align: right;\n",
       "    }\n",
       "</style>\n",
       "<table border=\"1\" class=\"dataframe\">\n",
       "  <thead>\n",
       "    <tr style=\"text-align: right;\">\n",
       "      <th></th>\n",
       "      <th>ecg_id</th>\n",
       "      <th>filename_hr</th>\n",
       "      <th>label</th>\n",
       "    </tr>\n",
       "  </thead>\n",
       "  <tbody>\n",
       "    <tr>\n",
       "      <th>0</th>\n",
       "      <td>7781.0</td>\n",
       "      <td>records500/07000/07781_hr</td>\n",
       "      <td>IMI</td>\n",
       "    </tr>\n",
       "    <tr>\n",
       "      <th>1</th>\n",
       "      <td>4036.0</td>\n",
       "      <td>records500/04000/04036_hr</td>\n",
       "      <td>NORM</td>\n",
       "    </tr>\n",
       "    <tr>\n",
       "      <th>2</th>\n",
       "      <td>8857.0</td>\n",
       "      <td>records500/08000/08857_hr</td>\n",
       "      <td>NORM</td>\n",
       "    </tr>\n",
       "    <tr>\n",
       "      <th>3</th>\n",
       "      <td>9380.0</td>\n",
       "      <td>records500/09000/09380_hr</td>\n",
       "      <td>IMI</td>\n",
       "    </tr>\n",
       "    <tr>\n",
       "      <th>4</th>\n",
       "      <td>14816.0</td>\n",
       "      <td>records500/14000/14816_hr</td>\n",
       "      <td>NORM</td>\n",
       "    </tr>\n",
       "    <tr>\n",
       "      <th>...</th>\n",
       "      <td>...</td>\n",
       "      <td>...</td>\n",
       "      <td>...</td>\n",
       "    </tr>\n",
       "    <tr>\n",
       "      <th>4459</th>\n",
       "      <td>18605.0</td>\n",
       "      <td>records500/18000/18605_hr</td>\n",
       "      <td>NORM</td>\n",
       "    </tr>\n",
       "    <tr>\n",
       "      <th>4460</th>\n",
       "      <td>18949.0</td>\n",
       "      <td>records500/18000/18949_hr</td>\n",
       "      <td>IMI</td>\n",
       "    </tr>\n",
       "    <tr>\n",
       "      <th>4461</th>\n",
       "      <td>18242.0</td>\n",
       "      <td>records500/18000/18242_hr</td>\n",
       "      <td>NORM</td>\n",
       "    </tr>\n",
       "    <tr>\n",
       "      <th>4462</th>\n",
       "      <td>15365.0</td>\n",
       "      <td>records500/15000/15365_hr</td>\n",
       "      <td>IMI</td>\n",
       "    </tr>\n",
       "    <tr>\n",
       "      <th>4463</th>\n",
       "      <td>4755.0</td>\n",
       "      <td>records500/04000/04755_hr</td>\n",
       "      <td>IMI</td>\n",
       "    </tr>\n",
       "  </tbody>\n",
       "</table>\n",
       "<p>4464 rows × 3 columns</p>\n",
       "</div>"
      ],
      "text/plain": [
       "       ecg_id                filename_hr label\n",
       "0      7781.0  records500/07000/07781_hr   IMI\n",
       "1      4036.0  records500/04000/04036_hr  NORM\n",
       "2      8857.0  records500/08000/08857_hr  NORM\n",
       "3      9380.0  records500/09000/09380_hr   IMI\n",
       "4     14816.0  records500/14000/14816_hr  NORM\n",
       "...       ...                        ...   ...\n",
       "4459  18605.0  records500/18000/18605_hr  NORM\n",
       "4460  18949.0  records500/18000/18949_hr   IMI\n",
       "4461  18242.0  records500/18000/18242_hr  NORM\n",
       "4462  15365.0  records500/15000/15365_hr   IMI\n",
       "4463   4755.0  records500/04000/04755_hr   IMI\n",
       "\n",
       "[4464 rows x 3 columns]"
      ]
     },
     "execution_count": 13,
     "metadata": {},
     "output_type": "execute_result"
    }
   ],
   "source": [
    "df_balanced_and_augmented"
   ]
  },
  {
   "cell_type": "code",
   "execution_count": 14,
   "id": "a5aa783b-355c-42f4-a384-decbf186ab89",
   "metadata": {},
   "outputs": [
    {
     "name": "stdout",
     "output_type": "stream",
     "text": [
      "Missing values:\n",
      "ecg_id         0\n",
      "filename_hr    0\n",
      "label          0\n",
      "dtype: int64\n"
     ]
    }
   ],
   "source": [
    "# Identify missing values\n",
    "missing_values = df_balanced_and_augmented.isnull().sum()\n",
    "print(\"Missing values:\")\n",
    "print(missing_values)  "
   ]
  },
  {
   "cell_type": "code",
   "execution_count": 15,
   "id": "cc44cf91-8ee8-44b4-af51-17eac2d982ec",
   "metadata": {},
   "outputs": [
    {
     "name": "stdout",
     "output_type": "stream",
     "text": [
      "ecg_id                           16073.0\n",
      "filename_hr    records500/16000/16073_hr\n",
      "label                               NORM\n",
      "Name: 200, dtype: object\n"
     ]
    }
   ],
   "source": [
    "# Display the first record from the DataFrame\n",
    "print(df_balanced_and_augmented.iloc[200])"
   ]
  },
  {
   "cell_type": "code",
   "execution_count": 16,
   "id": "0a91c863-58a0-4c83-8803-cc07d5ebea6b",
   "metadata": {},
   "outputs": [
    {
     "name": "stdout",
     "output_type": "stream",
     "text": [
      "       ecg_id                filename_hr label  \\\n",
      "0      7781.0  records500/07000/07781_hr   IMI   \n",
      "1      4036.0  records500/04000/04036_hr  NORM   \n",
      "2      8857.0  records500/08000/08857_hr  NORM   \n",
      "3      9380.0  records500/09000/09380_hr   IMI   \n",
      "4     14816.0  records500/14000/14816_hr  NORM   \n",
      "...       ...                        ...   ...   \n",
      "4459  18605.0  records500/18000/18605_hr  NORM   \n",
      "4460  18949.0  records500/18000/18949_hr   IMI   \n",
      "4461  18242.0  records500/18000/18242_hr  NORM   \n",
      "4462  15365.0  records500/15000/15365_hr   IMI   \n",
      "4463   4755.0  records500/04000/04755_hr   IMI   \n",
      "\n",
      "                              filtered_lead_1_channel_0  \n",
      "0     [-0.05535706432148732, -0.055705980314489374, ...  \n",
      "1     [-0.017722321193429806, -0.017834025117279443,...  \n",
      "2     [-0.037288157163053365, -0.037523184698260166,...  \n",
      "3     [-0.02261151421908207, -0.0227540347633655, -0...  \n",
      "4     [-0.025732273877728324, -0.02587018510813184, ...  \n",
      "...                                                 ...  \n",
      "4459  [0.30157904947073444, 0.3032310780196683, 0.30...  \n",
      "4460  [-0.040269239174407515, -0.04043204692095402, ...  \n",
      "4461  [-0.029813800094895503, -0.029904637258869216,...  \n",
      "4462  [0.06885256368921396, 0.06923798294530313, 0.0...  \n",
      "4463  [-0.0015543383073876277, -0.001564135313436100...  \n",
      "\n",
      "[4464 rows x 4 columns]\n"
     ]
    }
   ],
   "source": [
    "import numpy as np\n",
    "import pandas as pd\n",
    "from scipy.signal import butter, filtfilt\n",
    "import wfdb\n",
    "\n",
    "# Apply Butterworth high-pass filter\n",
    "def apply_highpass_filter(signal, lowcut, fs, order=1):\n",
    "    nyq = 0.5 * fs\n",
    "    low = lowcut / nyq\n",
    "    b, a = butter(order, low, btype='high')\n",
    "    return filtfilt(b, a, signal)\n",
    "\n",
    "# Function to apply high-pass filter to lead 1 at channel 0\n",
    "def apply_highpass_filter_to_lead1(file_path):\n",
    "    # Load ECG record\n",
    "    record = wfdb.rdrecord(file_path)\n",
    "\n",
    "    # Extract lead 1 signal (assuming it's at channel 0)\n",
    "    lead_1_signal = record.p_signal[:, 0]\n",
    "\n",
    "    # Sampling frequency\n",
    "    fs = record.fs\n",
    "\n",
    "    # Apply high-pass filter\n",
    "    lowcut = 0.5  # Adjust cutoff frequency as needed\n",
    "    filtered_lead_1_signal = apply_highpass_filter(lead_1_signal, lowcut, fs)\n",
    "\n",
    "    return filtered_lead_1_signal\n",
    "\n",
    "# Assuming 'filename_hr' contains file paths to ECG signals\n",
    "file_paths = df_balanced_and_augmented['filename_hr']\n",
    "\n",
    "# Apply high-pass filter to lead 1 at channel 0 for each file\n",
    "filtered_signals = []\n",
    "for file_path in file_paths:\n",
    "    filtered_signal = apply_highpass_filter_to_lead1(file_path)\n",
    "    filtered_signals.append(filtered_signal)\n",
    "\n",
    "# Add filtered signals to DataFrame\n",
    "df_balanced_and_augmented['filtered_lead_1_channel_0'] = filtered_signals\n",
    "\n",
    "# Display DataFrame with filtered signals\n",
    "print(df_balanced_and_augmented)\n"
   ]
  },
  {
   "cell_type": "code",
   "execution_count": 17,
   "id": "258ef4ca-58e4-444c-b3a9-3d6ecb4fd625",
   "metadata": {},
   "outputs": [],
   "source": [
    "import matplotlib.pyplot as plt\n",
    "from tensorflow import data \n",
    "import wfdb as sig\n",
    "import keras\n",
    "from keras.models import Sequential\n",
    "from keras.layers import Dense, Activation, Dropout, Conv1D, GlobalAveragePooling1D, MaxPooling1D\n",
    "from keras import regularizers\n",
    "from sklearn.model_selection import train_test_split"
   ]
  },
  {
   "cell_type": "code",
   "execution_count": 18,
   "id": "02d48ae8-401b-43a0-8db0-c8aefd1cd657",
   "metadata": {},
   "outputs": [],
   "source": [
    "def preprocess(dat):\n",
    "    data_dir = list(dat['filename_hr'])\n",
    "    data_signal = map(read_signal , data_dir)\n",
    "    data_signal = list(data_signal)\n",
    "    data_signal = np.array(data_signal)\n",
    "    data_dict = {'NORM' : 0 , 'IMI': 1  }\n",
    "    encoded_label = dat['label'].map(data_dict)\n",
    "    return np.array(data_signal)  , np.array(encoded_label)"
   ]
  },
  {
   "cell_type": "code",
   "execution_count": 19,
   "id": "9b1d7580-3bed-498e-b5b2-68f0047af84d",
   "metadata": {},
   "outputs": [
    {
     "name": "stdout",
     "output_type": "stream",
     "text": [
      "Train size: 3124\n",
      "Validation size: 670\n",
      "Test size: 670\n"
     ]
    }
   ],
   "source": [
    "from sklearn.model_selection import train_test_split\n",
    "\n",
    "# Splitting data into train and (validation + test) sets\n",
    "train, val_test = train_test_split(df_balanced_and_augmented, train_size=0.7, random_state=1002)\n",
    "\n",
    "# Splitting (validation + test) into validation and test sets\n",
    "validation, test = train_test_split(val_test, test_size=0.5, random_state=1002)\n",
    "\n",
    "# Printing the sizes of train, validation, and test sets\n",
    "print(\"Train size:\", len(train))\n",
    "print(\"Validation size:\", len(validation))\n",
    "print(\"Test size:\", len(test))"
   ]
  },
  {
   "cell_type": "code",
   "execution_count": 20,
   "id": "d96cf35c-fbe9-4d14-8bc4-9e1ff5c2c0d2",
   "metadata": {},
   "outputs": [
    {
     "name": "stdout",
     "output_type": "stream",
     "text": [
      "(3124, 4)\n",
      "(670, 4)\n",
      "(670, 4)\n"
     ]
    }
   ],
   "source": [
    "print(train.shape)\n",
    "print(validation.shape)\n",
    "print(test.shape)"
   ]
  },
  {
   "cell_type": "code",
   "execution_count": 21,
   "id": "cc974c5c-6b08-4bfd-a316-0725beb2327f",
   "metadata": {},
   "outputs": [],
   "source": [
    "def read_signal(record):\n",
    "    tes = sig.rdrecord(record,sampfrom=0 , sampto=5000)\n",
    "    signal = tes.__dict__['p_signal'][::,0]\n",
    "    return signal"
   ]
  },
  {
   "cell_type": "code",
   "execution_count": 22,
   "id": "2fd072f0-ea15-4ece-96c7-1a0655b90b09",
   "metadata": {},
   "outputs": [],
   "source": [
    "X_train , y_train = preprocess(train)\n",
    "X_valid , y_valid = preprocess(validation)\n",
    "X_test  , y_test  = preprocess(test) "
   ]
  },
  {
   "cell_type": "code",
   "execution_count": 23,
   "id": "09e7e807-fdc8-419c-b07a-b06692187aa5",
   "metadata": {},
   "outputs": [
    {
     "name": "stdout",
     "output_type": "stream",
     "text": [
      "(3124, 5000)\n",
      "(3124,)\n",
      "(670, 5000)\n",
      "(670,)\n",
      "(670, 5000)\n",
      "(670,)\n"
     ]
    }
   ],
   "source": [
    "print(X_train.shape)\n",
    "print(y_train.shape)\n",
    "print(X_valid.shape)\n",
    "print(y_valid.shape)\n",
    "print(X_test.shape)\n",
    "print(y_test.shape)"
   ]
  },
  {
   "cell_type": "code",
   "execution_count": 24,
   "id": "dfef9da2-4c6f-4c58-9be2-6572ab8d0fd8",
   "metadata": {},
   "outputs": [],
   "source": [
    "# Reshape input data to add the timestep dimension\n",
    "X_train = X_train.reshape(X_train.shape[0], X_train.shape[1], 1)\n",
    "X_valid = X_valid.reshape(X_valid.shape[0], X_valid.shape[1], 1)\n",
    "X_test = X_test.reshape(X_test.shape[0], X_test.shape[1], 1)"
   ]
  },
  {
   "cell_type": "code",
   "execution_count": 25,
   "id": "6a044ba8-03c8-4de8-b70b-2410bb9664b3",
   "metadata": {},
   "outputs": [
    {
     "name": "stdout",
     "output_type": "stream",
     "text": [
      "(3124, 5000, 1)\n",
      "(3124,)\n",
      "(670, 5000, 1)\n",
      "(670,)\n",
      "(670, 5000, 1)\n",
      "(670,)\n"
     ]
    }
   ],
   "source": [
    "print(X_train.shape)\n",
    "print(y_train.shape)\n",
    "print(X_valid.shape)\n",
    "print(y_valid.shape)\n",
    "print(X_test.shape)\n",
    "print(y_test.shape)"
   ]
  },
  {
   "cell_type": "code",
   "execution_count": 30,
   "id": "e4fa72d9-3654-42c9-b95f-5a33a75d334b",
   "metadata": {},
   "outputs": [
    {
     "data": {
      "text/html": [
       "<pre style=\"white-space:pre;overflow-x:auto;line-height:normal;font-family:Menlo,'DejaVu Sans Mono',consolas,'Courier New',monospace\"><span style=\"font-weight: bold\">Model: \"sequential_4\"</span>\n",
       "</pre>\n"
      ],
      "text/plain": [
       "\u001b[1mModel: \"sequential_4\"\u001b[0m\n"
      ]
     },
     "metadata": {},
     "output_type": "display_data"
    },
    {
     "data": {
      "text/html": [
       "<pre style=\"white-space:pre;overflow-x:auto;line-height:normal;font-family:Menlo,'DejaVu Sans Mono',consolas,'Courier New',monospace\">┏━━━━━━━━━━━━━━━━━━━━━━━━━━━━━━━━━━━━━━┳━━━━━━━━━━━━━━━━━━━━━━━━━━━━━┳━━━━━━━━━━━━━━━━━┓\n",
       "┃<span style=\"font-weight: bold\"> Layer (type)                         </span>┃<span style=\"font-weight: bold\"> Output Shape                </span>┃<span style=\"font-weight: bold\">         Param # </span>┃\n",
       "┡━━━━━━━━━━━━━━━━━━━━━━━━━━━━━━━━━━━━━━╇━━━━━━━━━━━━━━━━━━━━━━━━━━━━━╇━━━━━━━━━━━━━━━━━┩\n",
       "│ conv1d_8 (<span style=\"color: #0087ff; text-decoration-color: #0087ff\">Conv1D</span>)                    │ (<span style=\"color: #00d7ff; text-decoration-color: #00d7ff\">None</span>, <span style=\"color: #00af00; text-decoration-color: #00af00\">4996</span>, <span style=\"color: #00af00; text-decoration-color: #00af00\">32</span>)            │             <span style=\"color: #00af00; text-decoration-color: #00af00\">192</span> │\n",
       "├──────────────────────────────────────┼─────────────────────────────┼─────────────────┤\n",
       "│ batch_normalization_2                │ (<span style=\"color: #00d7ff; text-decoration-color: #00d7ff\">None</span>, <span style=\"color: #00af00; text-decoration-color: #00af00\">4996</span>, <span style=\"color: #00af00; text-decoration-color: #00af00\">32</span>)            │             <span style=\"color: #00af00; text-decoration-color: #00af00\">128</span> │\n",
       "│ (<span style=\"color: #0087ff; text-decoration-color: #0087ff\">BatchNormalization</span>)                 │                             │                 │\n",
       "├──────────────────────────────────────┼─────────────────────────────┼─────────────────┤\n",
       "│ max_pooling1d_8 (<span style=\"color: #0087ff; text-decoration-color: #0087ff\">MaxPooling1D</span>)       │ (<span style=\"color: #00d7ff; text-decoration-color: #00d7ff\">None</span>, <span style=\"color: #00af00; text-decoration-color: #00af00\">2498</span>, <span style=\"color: #00af00; text-decoration-color: #00af00\">32</span>)            │               <span style=\"color: #00af00; text-decoration-color: #00af00\">0</span> │\n",
       "├──────────────────────────────────────┼─────────────────────────────┼─────────────────┤\n",
       "│ dropout_4 (<span style=\"color: #0087ff; text-decoration-color: #0087ff\">Dropout</span>)                  │ (<span style=\"color: #00d7ff; text-decoration-color: #00d7ff\">None</span>, <span style=\"color: #00af00; text-decoration-color: #00af00\">2498</span>, <span style=\"color: #00af00; text-decoration-color: #00af00\">32</span>)            │               <span style=\"color: #00af00; text-decoration-color: #00af00\">0</span> │\n",
       "├──────────────────────────────────────┼─────────────────────────────┼─────────────────┤\n",
       "│ conv1d_9 (<span style=\"color: #0087ff; text-decoration-color: #0087ff\">Conv1D</span>)                    │ (<span style=\"color: #00d7ff; text-decoration-color: #00d7ff\">None</span>, <span style=\"color: #00af00; text-decoration-color: #00af00\">2496</span>, <span style=\"color: #00af00; text-decoration-color: #00af00\">64</span>)            │           <span style=\"color: #00af00; text-decoration-color: #00af00\">6,208</span> │\n",
       "├──────────────────────────────────────┼─────────────────────────────┼─────────────────┤\n",
       "│ batch_normalization_3                │ (<span style=\"color: #00d7ff; text-decoration-color: #00d7ff\">None</span>, <span style=\"color: #00af00; text-decoration-color: #00af00\">2496</span>, <span style=\"color: #00af00; text-decoration-color: #00af00\">64</span>)            │             <span style=\"color: #00af00; text-decoration-color: #00af00\">256</span> │\n",
       "│ (<span style=\"color: #0087ff; text-decoration-color: #0087ff\">BatchNormalization</span>)                 │                             │                 │\n",
       "├──────────────────────────────────────┼─────────────────────────────┼─────────────────┤\n",
       "│ max_pooling1d_9 (<span style=\"color: #0087ff; text-decoration-color: #0087ff\">MaxPooling1D</span>)       │ (<span style=\"color: #00d7ff; text-decoration-color: #00d7ff\">None</span>, <span style=\"color: #00af00; text-decoration-color: #00af00\">1248</span>, <span style=\"color: #00af00; text-decoration-color: #00af00\">64</span>)            │               <span style=\"color: #00af00; text-decoration-color: #00af00\">0</span> │\n",
       "├──────────────────────────────────────┼─────────────────────────────┼─────────────────┤\n",
       "│ dropout_5 (<span style=\"color: #0087ff; text-decoration-color: #0087ff\">Dropout</span>)                  │ (<span style=\"color: #00d7ff; text-decoration-color: #00d7ff\">None</span>, <span style=\"color: #00af00; text-decoration-color: #00af00\">1248</span>, <span style=\"color: #00af00; text-decoration-color: #00af00\">64</span>)            │               <span style=\"color: #00af00; text-decoration-color: #00af00\">0</span> │\n",
       "├──────────────────────────────────────┼─────────────────────────────┼─────────────────┤\n",
       "│ lstm_3 (<span style=\"color: #0087ff; text-decoration-color: #0087ff\">LSTM</span>)                        │ (<span style=\"color: #00d7ff; text-decoration-color: #00d7ff\">None</span>, <span style=\"color: #00af00; text-decoration-color: #00af00\">1248</span>, <span style=\"color: #00af00; text-decoration-color: #00af00\">64</span>)            │          <span style=\"color: #00af00; text-decoration-color: #00af00\">33,024</span> │\n",
       "├──────────────────────────────────────┼─────────────────────────────┼─────────────────┤\n",
       "│ dropout_6 (<span style=\"color: #0087ff; text-decoration-color: #0087ff\">Dropout</span>)                  │ (<span style=\"color: #00d7ff; text-decoration-color: #00d7ff\">None</span>, <span style=\"color: #00af00; text-decoration-color: #00af00\">1248</span>, <span style=\"color: #00af00; text-decoration-color: #00af00\">64</span>)            │               <span style=\"color: #00af00; text-decoration-color: #00af00\">0</span> │\n",
       "├──────────────────────────────────────┼─────────────────────────────┼─────────────────┤\n",
       "│ flatten_3 (<span style=\"color: #0087ff; text-decoration-color: #0087ff\">Flatten</span>)                  │ (<span style=\"color: #00d7ff; text-decoration-color: #00d7ff\">None</span>, <span style=\"color: #00af00; text-decoration-color: #00af00\">79872</span>)               │               <span style=\"color: #00af00; text-decoration-color: #00af00\">0</span> │\n",
       "├──────────────────────────────────────┼─────────────────────────────┼─────────────────┤\n",
       "│ dense_6 (<span style=\"color: #0087ff; text-decoration-color: #0087ff\">Dense</span>)                      │ (<span style=\"color: #00d7ff; text-decoration-color: #00d7ff\">None</span>, <span style=\"color: #00af00; text-decoration-color: #00af00\">128</span>)                 │      <span style=\"color: #00af00; text-decoration-color: #00af00\">10,223,744</span> │\n",
       "├──────────────────────────────────────┼─────────────────────────────┼─────────────────┤\n",
       "│ dropout_7 (<span style=\"color: #0087ff; text-decoration-color: #0087ff\">Dropout</span>)                  │ (<span style=\"color: #00d7ff; text-decoration-color: #00d7ff\">None</span>, <span style=\"color: #00af00; text-decoration-color: #00af00\">128</span>)                 │               <span style=\"color: #00af00; text-decoration-color: #00af00\">0</span> │\n",
       "├──────────────────────────────────────┼─────────────────────────────┼─────────────────┤\n",
       "│ dense_7 (<span style=\"color: #0087ff; text-decoration-color: #0087ff\">Dense</span>)                      │ (<span style=\"color: #00d7ff; text-decoration-color: #00d7ff\">None</span>, <span style=\"color: #00af00; text-decoration-color: #00af00\">2</span>)                   │             <span style=\"color: #00af00; text-decoration-color: #00af00\">258</span> │\n",
       "└──────────────────────────────────────┴─────────────────────────────┴─────────────────┘\n",
       "</pre>\n"
      ],
      "text/plain": [
       "┏━━━━━━━━━━━━━━━━━━━━━━━━━━━━━━━━━━━━━━┳━━━━━━━━━━━━━━━━━━━━━━━━━━━━━┳━━━━━━━━━━━━━━━━━┓\n",
       "┃\u001b[1m \u001b[0m\u001b[1mLayer (type)                        \u001b[0m\u001b[1m \u001b[0m┃\u001b[1m \u001b[0m\u001b[1mOutput Shape               \u001b[0m\u001b[1m \u001b[0m┃\u001b[1m \u001b[0m\u001b[1m        Param #\u001b[0m\u001b[1m \u001b[0m┃\n",
       "┡━━━━━━━━━━━━━━━━━━━━━━━━━━━━━━━━━━━━━━╇━━━━━━━━━━━━━━━━━━━━━━━━━━━━━╇━━━━━━━━━━━━━━━━━┩\n",
       "│ conv1d_8 (\u001b[38;5;33mConv1D\u001b[0m)                    │ (\u001b[38;5;45mNone\u001b[0m, \u001b[38;5;34m4996\u001b[0m, \u001b[38;5;34m32\u001b[0m)            │             \u001b[38;5;34m192\u001b[0m │\n",
       "├──────────────────────────────────────┼─────────────────────────────┼─────────────────┤\n",
       "│ batch_normalization_2                │ (\u001b[38;5;45mNone\u001b[0m, \u001b[38;5;34m4996\u001b[0m, \u001b[38;5;34m32\u001b[0m)            │             \u001b[38;5;34m128\u001b[0m │\n",
       "│ (\u001b[38;5;33mBatchNormalization\u001b[0m)                 │                             │                 │\n",
       "├──────────────────────────────────────┼─────────────────────────────┼─────────────────┤\n",
       "│ max_pooling1d_8 (\u001b[38;5;33mMaxPooling1D\u001b[0m)       │ (\u001b[38;5;45mNone\u001b[0m, \u001b[38;5;34m2498\u001b[0m, \u001b[38;5;34m32\u001b[0m)            │               \u001b[38;5;34m0\u001b[0m │\n",
       "├──────────────────────────────────────┼─────────────────────────────┼─────────────────┤\n",
       "│ dropout_4 (\u001b[38;5;33mDropout\u001b[0m)                  │ (\u001b[38;5;45mNone\u001b[0m, \u001b[38;5;34m2498\u001b[0m, \u001b[38;5;34m32\u001b[0m)            │               \u001b[38;5;34m0\u001b[0m │\n",
       "├──────────────────────────────────────┼─────────────────────────────┼─────────────────┤\n",
       "│ conv1d_9 (\u001b[38;5;33mConv1D\u001b[0m)                    │ (\u001b[38;5;45mNone\u001b[0m, \u001b[38;5;34m2496\u001b[0m, \u001b[38;5;34m64\u001b[0m)            │           \u001b[38;5;34m6,208\u001b[0m │\n",
       "├──────────────────────────────────────┼─────────────────────────────┼─────────────────┤\n",
       "│ batch_normalization_3                │ (\u001b[38;5;45mNone\u001b[0m, \u001b[38;5;34m2496\u001b[0m, \u001b[38;5;34m64\u001b[0m)            │             \u001b[38;5;34m256\u001b[0m │\n",
       "│ (\u001b[38;5;33mBatchNormalization\u001b[0m)                 │                             │                 │\n",
       "├──────────────────────────────────────┼─────────────────────────────┼─────────────────┤\n",
       "│ max_pooling1d_9 (\u001b[38;5;33mMaxPooling1D\u001b[0m)       │ (\u001b[38;5;45mNone\u001b[0m, \u001b[38;5;34m1248\u001b[0m, \u001b[38;5;34m64\u001b[0m)            │               \u001b[38;5;34m0\u001b[0m │\n",
       "├──────────────────────────────────────┼─────────────────────────────┼─────────────────┤\n",
       "│ dropout_5 (\u001b[38;5;33mDropout\u001b[0m)                  │ (\u001b[38;5;45mNone\u001b[0m, \u001b[38;5;34m1248\u001b[0m, \u001b[38;5;34m64\u001b[0m)            │               \u001b[38;5;34m0\u001b[0m │\n",
       "├──────────────────────────────────────┼─────────────────────────────┼─────────────────┤\n",
       "│ lstm_3 (\u001b[38;5;33mLSTM\u001b[0m)                        │ (\u001b[38;5;45mNone\u001b[0m, \u001b[38;5;34m1248\u001b[0m, \u001b[38;5;34m64\u001b[0m)            │          \u001b[38;5;34m33,024\u001b[0m │\n",
       "├──────────────────────────────────────┼─────────────────────────────┼─────────────────┤\n",
       "│ dropout_6 (\u001b[38;5;33mDropout\u001b[0m)                  │ (\u001b[38;5;45mNone\u001b[0m, \u001b[38;5;34m1248\u001b[0m, \u001b[38;5;34m64\u001b[0m)            │               \u001b[38;5;34m0\u001b[0m │\n",
       "├──────────────────────────────────────┼─────────────────────────────┼─────────────────┤\n",
       "│ flatten_3 (\u001b[38;5;33mFlatten\u001b[0m)                  │ (\u001b[38;5;45mNone\u001b[0m, \u001b[38;5;34m79872\u001b[0m)               │               \u001b[38;5;34m0\u001b[0m │\n",
       "├──────────────────────────────────────┼─────────────────────────────┼─────────────────┤\n",
       "│ dense_6 (\u001b[38;5;33mDense\u001b[0m)                      │ (\u001b[38;5;45mNone\u001b[0m, \u001b[38;5;34m128\u001b[0m)                 │      \u001b[38;5;34m10,223,744\u001b[0m │\n",
       "├──────────────────────────────────────┼─────────────────────────────┼─────────────────┤\n",
       "│ dropout_7 (\u001b[38;5;33mDropout\u001b[0m)                  │ (\u001b[38;5;45mNone\u001b[0m, \u001b[38;5;34m128\u001b[0m)                 │               \u001b[38;5;34m0\u001b[0m │\n",
       "├──────────────────────────────────────┼─────────────────────────────┼─────────────────┤\n",
       "│ dense_7 (\u001b[38;5;33mDense\u001b[0m)                      │ (\u001b[38;5;45mNone\u001b[0m, \u001b[38;5;34m2\u001b[0m)                   │             \u001b[38;5;34m258\u001b[0m │\n",
       "└──────────────────────────────────────┴─────────────────────────────┴─────────────────┘\n"
      ]
     },
     "metadata": {},
     "output_type": "display_data"
    },
    {
     "data": {
      "text/html": [
       "<pre style=\"white-space:pre;overflow-x:auto;line-height:normal;font-family:Menlo,'DejaVu Sans Mono',consolas,'Courier New',monospace\"><span style=\"font-weight: bold\"> Total params: </span><span style=\"color: #00af00; text-decoration-color: #00af00\">10,263,810</span> (39.15 MB)\n",
       "</pre>\n"
      ],
      "text/plain": [
       "\u001b[1m Total params: \u001b[0m\u001b[38;5;34m10,263,810\u001b[0m (39.15 MB)\n"
      ]
     },
     "metadata": {},
     "output_type": "display_data"
    },
    {
     "data": {
      "text/html": [
       "<pre style=\"white-space:pre;overflow-x:auto;line-height:normal;font-family:Menlo,'DejaVu Sans Mono',consolas,'Courier New',monospace\"><span style=\"font-weight: bold\"> Trainable params: </span><span style=\"color: #00af00; text-decoration-color: #00af00\">10,263,618</span> (39.15 MB)\n",
       "</pre>\n"
      ],
      "text/plain": [
       "\u001b[1m Trainable params: \u001b[0m\u001b[38;5;34m10,263,618\u001b[0m (39.15 MB)\n"
      ]
     },
     "metadata": {},
     "output_type": "display_data"
    },
    {
     "data": {
      "text/html": [
       "<pre style=\"white-space:pre;overflow-x:auto;line-height:normal;font-family:Menlo,'DejaVu Sans Mono',consolas,'Courier New',monospace\"><span style=\"font-weight: bold\"> Non-trainable params: </span><span style=\"color: #00af00; text-decoration-color: #00af00\">192</span> (768.00 B)\n",
       "</pre>\n"
      ],
      "text/plain": [
       "\u001b[1m Non-trainable params: \u001b[0m\u001b[38;5;34m192\u001b[0m (768.00 B)\n"
      ]
     },
     "metadata": {},
     "output_type": "display_data"
    },
    {
     "name": "stdout",
     "output_type": "stream",
     "text": [
      "Epoch 1/20\n",
      "\u001b[1m98/98\u001b[0m \u001b[32m━━━━━━━━━━━━━━━━━━━━\u001b[0m\u001b[37m\u001b[0m \u001b[1m0s\u001b[0m 490ms/step - loss: 0.7375 - sparse_categorical_accuracy: 0.5431\n",
      "Epoch 1: val_sparse_categorical_accuracy improved from -inf to 0.52239, saving model to best_model.keras\n",
      "\u001b[1m98/98\u001b[0m \u001b[32m━━━━━━━━━━━━━━━━━━━━\u001b[0m\u001b[37m\u001b[0m \u001b[1m56s\u001b[0m 537ms/step - loss: 0.7370 - sparse_categorical_accuracy: 0.5437 - val_loss: 0.8431 - val_sparse_categorical_accuracy: 0.5224\n",
      "Epoch 2/20\n",
      "\u001b[1m98/98\u001b[0m \u001b[32m━━━━━━━━━━━━━━━━━━━━\u001b[0m\u001b[37m\u001b[0m \u001b[1m0s\u001b[0m 469ms/step - loss: 0.5505 - sparse_categorical_accuracy: 0.7213\n",
      "Epoch 2: val_sparse_categorical_accuracy improved from 0.52239 to 0.52537, saving model to best_model.keras\n",
      "\u001b[1m98/98\u001b[0m \u001b[32m━━━━━━━━━━━━━━━━━━━━\u001b[0m\u001b[37m\u001b[0m \u001b[1m50s\u001b[0m 512ms/step - loss: 0.5506 - sparse_categorical_accuracy: 0.7213 - val_loss: 0.7470 - val_sparse_categorical_accuracy: 0.5254\n",
      "Epoch 3/20\n",
      "\u001b[1m98/98\u001b[0m \u001b[32m━━━━━━━━━━━━━━━━━━━━\u001b[0m\u001b[37m\u001b[0m \u001b[1m0s\u001b[0m 464ms/step - loss: 0.4404 - sparse_categorical_accuracy: 0.7992\n",
      "Epoch 3: val_sparse_categorical_accuracy did not improve from 0.52537\n",
      "\u001b[1m98/98\u001b[0m \u001b[32m━━━━━━━━━━━━━━━━━━━━\u001b[0m\u001b[37m\u001b[0m \u001b[1m48s\u001b[0m 490ms/step - loss: 0.4404 - sparse_categorical_accuracy: 0.7992 - val_loss: 1.9780 - val_sparse_categorical_accuracy: 0.4776\n",
      "Epoch 4/20\n",
      "\u001b[1m98/98\u001b[0m \u001b[32m━━━━━━━━━━━━━━━━━━━━\u001b[0m\u001b[37m\u001b[0m \u001b[1m0s\u001b[0m 465ms/step - loss: 0.3429 - sparse_categorical_accuracy: 0.8597\n",
      "Epoch 4: val_sparse_categorical_accuracy did not improve from 0.52537\n",
      "\u001b[1m98/98\u001b[0m \u001b[32m━━━━━━━━━━━━━━━━━━━━\u001b[0m\u001b[37m\u001b[0m \u001b[1m48s\u001b[0m 490ms/step - loss: 0.3430 - sparse_categorical_accuracy: 0.8597 - val_loss: 3.5473 - val_sparse_categorical_accuracy: 0.4776\n",
      "Epoch 5/20\n",
      "\u001b[1m98/98\u001b[0m \u001b[32m━━━━━━━━━━━━━━━━━━━━\u001b[0m\u001b[37m\u001b[0m \u001b[1m0s\u001b[0m 468ms/step - loss: 0.2682 - sparse_categorical_accuracy: 0.9024\n",
      "Epoch 5: val_sparse_categorical_accuracy did not improve from 0.52537\n",
      "\u001b[1m98/98\u001b[0m \u001b[32m━━━━━━━━━━━━━━━━━━━━\u001b[0m\u001b[37m\u001b[0m \u001b[1m48s\u001b[0m 493ms/step - loss: 0.2682 - sparse_categorical_accuracy: 0.9024 - val_loss: 5.2003 - val_sparse_categorical_accuracy: 0.4776\n",
      "Epoch 6/20\n",
      "\u001b[1m98/98\u001b[0m \u001b[32m━━━━━━━━━━━━━━━━━━━━\u001b[0m\u001b[37m\u001b[0m \u001b[1m0s\u001b[0m 470ms/step - loss: 0.1814 - sparse_categorical_accuracy: 0.9440\n",
      "Epoch 6: val_sparse_categorical_accuracy did not improve from 0.52537\n",
      "\u001b[1m98/98\u001b[0m \u001b[32m━━━━━━━━━━━━━━━━━━━━\u001b[0m\u001b[37m\u001b[0m \u001b[1m48s\u001b[0m 495ms/step - loss: 0.1815 - sparse_categorical_accuracy: 0.9439 - val_loss: 3.9559 - val_sparse_categorical_accuracy: 0.4776\n",
      "Epoch 7/20\n",
      "\u001b[1m98/98\u001b[0m \u001b[32m━━━━━━━━━━━━━━━━━━━━\u001b[0m\u001b[37m\u001b[0m \u001b[1m0s\u001b[0m 472ms/step - loss: 0.1396 - sparse_categorical_accuracy: 0.9572\n",
      "Epoch 7: val_sparse_categorical_accuracy improved from 0.52537 to 0.52687, saving model to best_model.keras\n",
      "\u001b[1m98/98\u001b[0m \u001b[32m━━━━━━━━━━━━━━━━━━━━\u001b[0m\u001b[37m\u001b[0m \u001b[1m50s\u001b[0m 515ms/step - loss: 0.1397 - sparse_categorical_accuracy: 0.9571 - val_loss: 2.1454 - val_sparse_categorical_accuracy: 0.5269\n",
      "Epoch 8/20\n",
      "\u001b[1m98/98\u001b[0m \u001b[32m━━━━━━━━━━━━━━━━━━━━\u001b[0m\u001b[37m\u001b[0m \u001b[1m0s\u001b[0m 475ms/step - loss: 0.1071 - sparse_categorical_accuracy: 0.9740\n",
      "Epoch 8: val_sparse_categorical_accuracy improved from 0.52687 to 0.62239, saving model to best_model.keras\n",
      "\u001b[1m98/98\u001b[0m \u001b[32m━━━━━━━━━━━━━━━━━━━━\u001b[0m\u001b[37m\u001b[0m \u001b[1m51s\u001b[0m 518ms/step - loss: 0.1071 - sparse_categorical_accuracy: 0.9739 - val_loss: 1.4875 - val_sparse_categorical_accuracy: 0.6224\n",
      "Epoch 9/20\n",
      "\u001b[1m98/98\u001b[0m \u001b[32m━━━━━━━━━━━━━━━━━━━━\u001b[0m\u001b[37m\u001b[0m \u001b[1m0s\u001b[0m 469ms/step - loss: 0.0777 - sparse_categorical_accuracy: 0.9867\n",
      "Epoch 9: val_sparse_categorical_accuracy improved from 0.62239 to 0.63731, saving model to best_model.keras\n",
      "\u001b[1m98/98\u001b[0m \u001b[32m━━━━━━━━━━━━━━━━━━━━\u001b[0m\u001b[37m\u001b[0m \u001b[1m52s\u001b[0m 534ms/step - loss: 0.0777 - sparse_categorical_accuracy: 0.9866 - val_loss: 1.3361 - val_sparse_categorical_accuracy: 0.6373\n",
      "Epoch 10/20\n",
      "\u001b[1m98/98\u001b[0m \u001b[32m━━━━━━━━━━━━━━━━━━━━\u001b[0m\u001b[37m\u001b[0m \u001b[1m0s\u001b[0m 469ms/step - loss: 0.0540 - sparse_categorical_accuracy: 0.9889\n",
      "Epoch 10: val_sparse_categorical_accuracy improved from 0.63731 to 0.67164, saving model to best_model.keras\n",
      "\u001b[1m98/98\u001b[0m \u001b[32m━━━━━━━━━━━━━━━━━━━━\u001b[0m\u001b[37m\u001b[0m \u001b[1m52s\u001b[0m 532ms/step - loss: 0.0540 - sparse_categorical_accuracy: 0.9889 - val_loss: 1.2229 - val_sparse_categorical_accuracy: 0.6716\n",
      "Epoch 11/20\n",
      "\u001b[1m98/98\u001b[0m \u001b[32m━━━━━━━━━━━━━━━━━━━━\u001b[0m\u001b[37m\u001b[0m \u001b[1m0s\u001b[0m 469ms/step - loss: 0.0480 - sparse_categorical_accuracy: 0.9909\n",
      "Epoch 11: val_sparse_categorical_accuracy did not improve from 0.67164\n",
      "\u001b[1m98/98\u001b[0m \u001b[32m━━━━━━━━━━━━━━━━━━━━\u001b[0m\u001b[37m\u001b[0m \u001b[1m48s\u001b[0m 495ms/step - loss: 0.0480 - sparse_categorical_accuracy: 0.9909 - val_loss: 1.4618 - val_sparse_categorical_accuracy: 0.6358\n",
      "Epoch 12/20\n",
      "\u001b[1m98/98\u001b[0m \u001b[32m━━━━━━━━━━━━━━━━━━━━\u001b[0m\u001b[37m\u001b[0m \u001b[1m0s\u001b[0m 469ms/step - loss: 0.0424 - sparse_categorical_accuracy: 0.9894\n",
      "Epoch 12: val_sparse_categorical_accuracy did not improve from 0.67164\n",
      "\u001b[1m98/98\u001b[0m \u001b[32m━━━━━━━━━━━━━━━━━━━━\u001b[0m\u001b[37m\u001b[0m \u001b[1m49s\u001b[0m 495ms/step - loss: 0.0424 - sparse_categorical_accuracy: 0.9894 - val_loss: 1.2750 - val_sparse_categorical_accuracy: 0.6612\n",
      "Epoch 13/20\n",
      "\u001b[1m98/98\u001b[0m \u001b[32m━━━━━━━━━━━━━━━━━━━━\u001b[0m\u001b[37m\u001b[0m \u001b[1m0s\u001b[0m 468ms/step - loss: 0.0313 - sparse_categorical_accuracy: 0.9943\n",
      "Epoch 13: val_sparse_categorical_accuracy did not improve from 0.67164\n",
      "\u001b[1m98/98\u001b[0m \u001b[32m━━━━━━━━━━━━━━━━━━━━\u001b[0m\u001b[37m\u001b[0m \u001b[1m48s\u001b[0m 495ms/step - loss: 0.0313 - sparse_categorical_accuracy: 0.9943 - val_loss: 1.5281 - val_sparse_categorical_accuracy: 0.6418\n",
      "Epoch 14/20\n",
      "\u001b[1m98/98\u001b[0m \u001b[32m━━━━━━━━━━━━━━━━━━━━\u001b[0m\u001b[37m\u001b[0m \u001b[1m0s\u001b[0m 471ms/step - loss: 0.0237 - sparse_categorical_accuracy: 0.9960\n",
      "Epoch 14: val_sparse_categorical_accuracy did not improve from 0.67164\n",
      "\u001b[1m98/98\u001b[0m \u001b[32m━━━━━━━━━━━━━━━━━━━━\u001b[0m\u001b[37m\u001b[0m \u001b[1m49s\u001b[0m 496ms/step - loss: 0.0238 - sparse_categorical_accuracy: 0.9959 - val_loss: 1.4295 - val_sparse_categorical_accuracy: 0.6507\n",
      "Epoch 15/20\n",
      "\u001b[1m98/98\u001b[0m \u001b[32m━━━━━━━━━━━━━━━━━━━━\u001b[0m\u001b[37m\u001b[0m \u001b[1m0s\u001b[0m 465ms/step - loss: 0.0262 - sparse_categorical_accuracy: 0.9952\n",
      "Epoch 15: val_sparse_categorical_accuracy did not improve from 0.67164\n",
      "\u001b[1m98/98\u001b[0m \u001b[32m━━━━━━━━━━━━━━━━━━━━\u001b[0m\u001b[37m\u001b[0m \u001b[1m48s\u001b[0m 490ms/step - loss: 0.0261 - sparse_categorical_accuracy: 0.9952 - val_loss: 1.4632 - val_sparse_categorical_accuracy: 0.6672\n",
      "Epoch 16/20\n",
      "\u001b[1m98/98\u001b[0m \u001b[32m━━━━━━━━━━━━━━━━━━━━\u001b[0m\u001b[37m\u001b[0m \u001b[1m0s\u001b[0m 460ms/step - loss: 0.0158 - sparse_categorical_accuracy: 0.9980\n",
      "Epoch 16: val_sparse_categorical_accuracy did not improve from 0.67164\n",
      "\u001b[1m98/98\u001b[0m \u001b[32m━━━━━━━━━━━━━━━━━━━━\u001b[0m\u001b[37m\u001b[0m \u001b[1m47s\u001b[0m 484ms/step - loss: 0.0159 - sparse_categorical_accuracy: 0.9979 - val_loss: 1.7459 - val_sparse_categorical_accuracy: 0.6313\n",
      "Epoch 17/20\n",
      "\u001b[1m98/98\u001b[0m \u001b[32m━━━━━━━━━━━━━━━━━━━━\u001b[0m\u001b[37m\u001b[0m \u001b[1m0s\u001b[0m 459ms/step - loss: 0.0140 - sparse_categorical_accuracy: 0.9989\n",
      "Epoch 17: val_sparse_categorical_accuracy improved from 0.67164 to 0.67761, saving model to best_model.keras\n",
      "\u001b[1m98/98\u001b[0m \u001b[32m━━━━━━━━━━━━━━━━━━━━\u001b[0m\u001b[37m\u001b[0m \u001b[1m50s\u001b[0m 508ms/step - loss: 0.0140 - sparse_categorical_accuracy: 0.9989 - val_loss: 1.5160 - val_sparse_categorical_accuracy: 0.6776\n",
      "Epoch 18/20\n",
      "\u001b[1m98/98\u001b[0m \u001b[32m━━━━━━━━━━━━━━━━━━━━\u001b[0m\u001b[37m\u001b[0m \u001b[1m0s\u001b[0m 469ms/step - loss: 0.0141 - sparse_categorical_accuracy: 0.9978\n",
      "Epoch 18: val_sparse_categorical_accuracy did not improve from 0.67761\n",
      "\u001b[1m98/98\u001b[0m \u001b[32m━━━━━━━━━━━━━━━━━━━━\u001b[0m\u001b[37m\u001b[0m \u001b[1m48s\u001b[0m 494ms/step - loss: 0.0141 - sparse_categorical_accuracy: 0.9978 - val_loss: 1.6059 - val_sparse_categorical_accuracy: 0.6448\n",
      "Epoch 19/20\n",
      "\u001b[1m98/98\u001b[0m \u001b[32m━━━━━━━━━━━━━━━━━━━━\u001b[0m\u001b[37m\u001b[0m \u001b[1m0s\u001b[0m 469ms/step - loss: 0.0106 - sparse_categorical_accuracy: 0.9987\n",
      "Epoch 19: val_sparse_categorical_accuracy did not improve from 0.67761\n",
      "\u001b[1m98/98\u001b[0m \u001b[32m━━━━━━━━━━━━━━━━━━━━\u001b[0m\u001b[37m\u001b[0m \u001b[1m48s\u001b[0m 494ms/step - loss: 0.0106 - sparse_categorical_accuracy: 0.9987 - val_loss: 1.5445 - val_sparse_categorical_accuracy: 0.6731\n",
      "Epoch 20/20\n",
      "\u001b[1m98/98\u001b[0m \u001b[32m━━━━━━━━━━━━━━━━━━━━\u001b[0m\u001b[37m\u001b[0m \u001b[1m0s\u001b[0m 469ms/step - loss: 0.0106 - sparse_categorical_accuracy: 0.9989\n",
      "Epoch 20: val_sparse_categorical_accuracy did not improve from 0.67761\n",
      "\u001b[1m98/98\u001b[0m \u001b[32m━━━━━━━━━━━━━━━━━━━━\u001b[0m\u001b[37m\u001b[0m \u001b[1m48s\u001b[0m 495ms/step - loss: 0.0106 - sparse_categorical_accuracy: 0.9989 - val_loss: 1.6070 - val_sparse_categorical_accuracy: 0.6687\n",
      "Test Loss: 1.260242223739624, Test Accuracy: 0.7104477882385254\n"
     ]
    }
   ],
   "source": [
    "from tensorflow.keras.models import Sequential\n",
    "from tensorflow.keras.layers import Conv1D, MaxPooling1D, LSTM, Dense, Flatten, Dropout, BatchNormalization\n",
    "from tensorflow.keras.optimizers import Adam\n",
    "from tensorflow.keras.losses import SparseCategoricalCrossentropy\n",
    "from tensorflow.keras.metrics import SparseCategoricalAccuracy\n",
    "from tensorflow.keras.callbacks import ModelCheckpoint\n",
    "\n",
    "# Function to build the CRNN model\n",
    "def build_crnn_model(input_shape, num_classes):\n",
    "    model = Sequential()\n",
    "    \n",
    "    # CNN layers\n",
    "    model.add(Conv1D(filters=32, kernel_size=5, activation='relu', input_shape=input_shape))\n",
    "    model.add(BatchNormalization())\n",
    "    model.add(MaxPooling1D(pool_size=2))\n",
    "    model.add(Dropout(0.2))\n",
    "    \n",
    "    model.add(Conv1D(filters=64, kernel_size=3, activation='relu'))\n",
    "    model.add(BatchNormalization())\n",
    "    model.add(MaxPooling1D(pool_size=2))\n",
    "    model.add(Dropout(0.2))\n",
    "    \n",
    "    # LSTM layer\n",
    "    model.add(LSTM(64, return_sequences=True))\n",
    "    model.add(Dropout(0.2))\n",
    "    \n",
    "    # Flatten before dense layer\n",
    "    model.add(Flatten())\n",
    "    \n",
    "    # Dense layers\n",
    "    model.add(Dense(128, activation='relu'))\n",
    "    model.add(Dropout(0.2))\n",
    "    model.add(Dense(num_classes, activation='softmax'))\n",
    "    \n",
    "    return model\n",
    "\n",
    "# Define input shape and number of classes\n",
    "input_shape = X_train.shape[1:]\n",
    "num_classes = 2  # Two classes: normal and abnormal\n",
    "\n",
    "# Build the CRNN model\n",
    "crnn_model = build_crnn_model(input_shape, num_classes)\n",
    "\n",
    "# Compile the model with a lower learning rate\n",
    "crnn_model.compile(optimizer=Adam(learning_rate=0.0001), loss=SparseCategoricalCrossentropy(), metrics=[SparseCategoricalAccuracy()])\n",
    "\n",
    "# Print model summary\n",
    "crnn_model.summary()\n",
    "\n",
    "# Define the ModelCheckpoint callback\n",
    "checkpoint = ModelCheckpoint('best_model.keras', monitor='val_sparse_categorical_accuracy', save_best_only=True, mode='max', verbose=1)\n",
    "\n",
    "# Train the model\n",
    "batch_size = 32\n",
    "epochs = 20  # Increased number of epochs\n",
    "\n",
    "history = crnn_model.fit(X_train, y_train, \n",
    "                         batch_size=batch_size, \n",
    "                         epochs=epochs, \n",
    "                         validation_data=(X_valid, y_valid),\n",
    "                         callbacks=[checkpoint])\n",
    "\n",
    "# Evaluate the model on the test set\n",
    "test_loss, test_accuracy = crnn_model.evaluate(X_test, y_test, verbose=0)\n",
    "print(f\"Test Loss: {test_loss}, Test Accuracy: {test_accuracy}\")\n"
   ]
  },
  {
   "cell_type": "code",
   "execution_count": 31,
   "id": "9494f1d7-d46d-4e87-8956-48b941cee50c",
   "metadata": {},
   "outputs": [
    {
     "name": "stdout",
     "output_type": "stream",
     "text": [
      "\u001b[1m21/21\u001b[0m \u001b[32m━━━━━━━━━━━━━━━━━━━━\u001b[0m\u001b[37m\u001b[0m \u001b[1m4s\u001b[0m 167ms/step\n"
     ]
    }
   ],
   "source": [
    "# Predict probabilities on the test set\n",
    "y_pred_proba = crnn_model.predict(X_test)"
   ]
  },
  {
   "cell_type": "code",
   "execution_count": 32,
   "id": "fb5738b3-e89d-4da2-88a0-4c537c630c90",
   "metadata": {},
   "outputs": [
    {
     "name": "stdout",
     "output_type": "stream",
     "text": [
      "Best Threshold: 0.8188188188188188\n",
      "Best Metric Sum (TP + TN - FP - FN): 308\n",
      "True Positives with Optimal Threshold: 254\n",
      "True Negatives with Optimal Threshold: 235\n",
      "False Positives with Optimal Threshold: 90\n",
      "False Negatives with Optimal Threshold: 91\n",
      "Precision with Optimal Threshold: 0.7383720930232558\n",
      "F1 Score with Optimal Threshold: 0.7373004354136431\n",
      "Sensitivity (Recall) with Optimal Threshold: 0.736231884057971\n",
      "Specificity with Optimal Threshold: 0.7230769230769231\n"
     ]
    }
   ],
   "source": [
    "import numpy as np\n",
    "from sklearn.metrics import confusion_matrix, precision_score, f1_score\n",
    "\n",
    "# Define the threshold search range\n",
    "thresholds = np.linspace(0, 1, 1000)\n",
    "\n",
    "# Initialize variables to store best threshold and corresponding metrics\n",
    "best_threshold = None\n",
    "best_metric_sum = float('-inf')  # We want to maximize this sum\n",
    "\n",
    "# Loop through each threshold and calculate corresponding metrics\n",
    "for threshold in thresholds:\n",
    "    y_pred_thresholded = (y_pred_proba[:, 1] > threshold).astype(int)\n",
    "    cm = confusion_matrix(y_test, y_pred_thresholded)\n",
    "    TP = cm[1, 1]\n",
    "    TN = cm[0, 0]\n",
    "    FP = cm[0, 1]\n",
    "    FN = cm[1, 0]\n",
    "    \n",
    "    # Calculate the sum of true positives and true negatives while minimizing false positives and false negatives\n",
    "    metric_sum = TP + TN - FP - FN\n",
    "    \n",
    "    # Update best threshold and best metric sum if a better threshold is found\n",
    "    if metric_sum > best_metric_sum:\n",
    "        best_metric_sum = metric_sum\n",
    "        best_threshold = threshold\n",
    "\n",
    "# Print the best threshold and corresponding metrics\n",
    "print(\"Best Threshold:\", best_threshold)\n",
    "print(\"Best Metric Sum (TP + TN - FP - FN):\", best_metric_sum)\n",
    "\n",
    "# Convert predicted probabilities to class labels using the optimal threshold\n",
    "y_pred_optimal = (y_pred_proba[:, 1] > best_threshold).astype(int)\n",
    "\n",
    "# Compute confusion matrix using the optimal threshold\n",
    "cm_optimal = confusion_matrix(y_test, y_pred_optimal)\n",
    "\n",
    "# Extract TP, TN, FP, FN using the optimal threshold\n",
    "TP_optimal = cm_optimal[1, 1]\n",
    "TN_optimal = cm_optimal[0, 0]\n",
    "FP_optimal = cm_optimal[0, 1]\n",
    "FN_optimal = cm_optimal[1, 0]\n",
    "\n",
    "# Print the number of TP, TN, FP, FN using the optimal threshold\n",
    "print(\"True Positives with Optimal Threshold:\", TP_optimal)\n",
    "print(\"True Negatives with Optimal Threshold:\", TN_optimal)\n",
    "print(\"False Positives with Optimal Threshold:\", FP_optimal)\n",
    "print(\"False Negatives with Optimal Threshold:\", FN_optimal)\n",
    "\n",
    "# Compute precision, F1 score, sensitivity (recall), and specificity\n",
    "precision_optimal = precision_score(y_test, y_pred_optimal)\n",
    "f1_optimal = f1_score(y_test, y_pred_optimal)\n",
    "sensitivity_optimal = TP_optimal / (TP_optimal + FN_optimal)\n",
    "specificity_optimal = TN_optimal / (TN_optimal + FP_optimal)\n",
    "\n",
    "# Print precision, F1 score, sensitivity (recall), and specificity\n",
    "print(\"Precision with Optimal Threshold:\", precision_optimal)\n",
    "print(\"F1 Score with Optimal Threshold:\", f1_optimal)\n",
    "print(\"Sensitivity (Recall) with Optimal Threshold:\", sensitivity_optimal)\n",
    "print(\"Specificity with Optimal Threshold:\", specificity_optimal)"
   ]
  },
  {
   "cell_type": "code",
   "execution_count": 44,
   "id": "490d1085-8962-4c19-89b4-ffa8bc834b50",
   "metadata": {},
   "outputs": [
    {
     "name": "stdout",
     "output_type": "stream",
     "text": [
      "Confusion Matrix with Optimal Threshold:\n",
      "[[235  90]\n",
      " [ 91 254]]\n"
     ]
    },
    {
     "data": {
      "image/png": "[encoded data removed]",
      "text/plain": [
       "<Figure size 800x600 with 2 Axes>"
      ]
     },
     "metadata": {},
     "output_type": "display_data"
    }
   ],
   "source": [
    "import numpy as np\n",
    "from sklearn.metrics import confusion_matrix, precision_score, f1_score\n",
    "import matplotlib.pyplot as plt\n",
    "import itertools\n",
    "\n",
    "# Define function to plot confusion matrix\n",
    "def plot_confusion_matrix(cm, classes, title='Confusion Matrix', cmap=plt.cm.Blues):\n",
    "    plt.imshow(cm, interpolation='nearest', cmap=cmap)\n",
    "    plt.title(title)\n",
    "    plt.colorbar()\n",
    "    tick_marks = np.arange(len(classes))\n",
    "    plt.xticks(tick_marks, classes)\n",
    "    plt.yticks(tick_marks, classes)\n",
    "\n",
    "    thresh = cm.max() / 2.\n",
    "    for i, j in itertools.product(range(cm.shape[0]), range(cm.shape[1])):\n",
    "        plt.text(j, i, cm[i, j],\n",
    "                 horizontalalignment=\"center\",\n",
    "                 color=\"white\" if cm[i, j] > thresh else \"black\")\n",
    "\n",
    "    plt.tight_layout()\n",
    "    plt.ylabel('True label')\n",
    "    plt.xlabel('Predicted label')\n",
    "\n",
    "# Assuming you have already computed the optimal threshold metrics\n",
    "best_threshold = 0.8188188188188188\n",
    "y_pred_optimal = (y_pred_proba[:, 1] > best_threshold).astype(int)  # Assuming y_pred_proba is available\n",
    "\n",
    "# Compute confusion matrix using the optimal threshold\n",
    "cm_optimal = confusion_matrix(y_test, y_pred_optimal)\n",
    "\n",
    "# Define class labels\n",
    "classes = ['Negative', 'Positive']  # Replace with your actual class labels\n",
    "\n",
    "# Print confusion matrix details\n",
    "print(\"Confusion Matrix with Optimal Threshold:\")\n",
    "print(cm_optimal)\n",
    "\n",
    "# Plot confusion matrix for optimal threshold\n",
    "plt.figure(figsize=(8, 6))\n",
    "plot_confusion_matrix(cm_optimal, classes)\n",
    "plt.show()\n"
   ]
  },
  {
   "cell_type": "code",
   "execution_count": 46,
   "id": "e242487a-64ae-44fa-a01b-dd04b870b6cf",
   "metadata": {},
   "outputs": [
    {
     "data": {
      "image/png": "[encoded data removed]",
      "text/plain": [
       "<Figure size 800x600 with 1 Axes>"
      ]
     },
     "metadata": {},
     "output_type": "display_data"
    }
   ],
   "source": [
    "\n",
    "# Compute ROC curve and ROC area for each class\n",
    "fpr, tpr, _ = roc_curve(y_test, y_pred_proba[:, 1])\n",
    "roc_auc = auc(fpr, tpr)\n",
    "\n",
    "# Plot ROC curve\n",
    "plt.figure(figsize=(8, 6))\n",
    "plt.plot(fpr, tpr, color='darkorange', lw=2, label='ROC curve (area = {:.2f})'.format(roc_auc))\n",
    "plt.plot([0, 1], [0, 1], color='navy', lw=2, linestyle='--')\n",
    "plt.xlim([0.0, 1.0])\n",
    "plt.ylim([0.0, 1.05])\n",
    "plt.xlabel('False Positive Rate')\n",
    "plt.ylabel('True Positive Rate')\n",
    "plt.title('Receiver Operating Characteristic (ROC)')\n",
    "plt.legend(loc='lower right')\n",
    "plt.show()\n"
   ]
  },
  {
   "cell_type": "code",
   "execution_count": 49,
   "id": "0fea07cc-920c-481f-8016-080e64a34f08",
   "metadata": {},
   "outputs": [
    {
     "name": "stdout",
     "output_type": "stream",
     "text": [
      "\u001b[1m21/21\u001b[0m \u001b[32m━━━━━━━━━━━━━━━━━━━━\u001b[0m\u001b[37m\u001b[0m \u001b[1m3s\u001b[0m 157ms/step\n"
     ]
    },
    {
     "data": {
      "image/png": "[encoded data removed]",
      "text/plain": [
       "<Figure size 800x800 with 1 Axes>"
      ]
     },
     "metadata": {},
     "output_type": "display_data"
    }
   ],
   "source": [
    "import numpy as np\n",
    "import matplotlib.pyplot as plt\n",
    "from sklearn.metrics import roc_curve, auc\n",
    "\n",
    "# Assuming you have already computed y_pred_proba using your CRNN model\n",
    "y_pred_proba = crnn_model.predict(X_test)\n",
    "\n",
    "# Compute ROC curve and ROC area for each class\n",
    "fpr, tpr, thresholds_roc = roc_curve(y_test, y_pred_proba[:, 1])  # Assuming y_test is binary (0 or 1)\n",
    "\n",
    "roc_auc = auc(fpr, tpr)\n",
    "\n",
    "# Plot ROC curve\n",
    "plt.figure(figsize=(8, 8))\n",
    "plt.plot(fpr, tpr, color='blue', lw=2, label='ROC curve (area = %0.2f)' % roc_auc)\n",
    "plt.title('Receiver Operating Characteristic (ROC)')\n",
    "plt.xlabel('False Positive Rate')\n",
    "plt.ylabel('True Positive Rate')\n",
    "plt.legend(loc='lower right')\n",
    "\n",
    "# Mark optimal threshold point on ROC curve\n",
    "optimal_threshold_index = np.argmax(tpr - fpr)\n",
    "optimal_threshold = thresholds_roc[optimal_threshold_index]\n",
    "plt.scatter(fpr[optimal_threshold_index], tpr[optimal_threshold_index], c='red', marker='o', label='Optimal Threshold')\n",
    "plt.legend()\n",
    "\n",
    "plt.show()\n"
   ]
  },
  {
   "cell_type": "code",
   "execution_count": null,
   "id": "5187c6d5-f6ba-4133-bc7b-9b8ac9320a80",
   "metadata": {},
   "outputs": [],
   "source": []
  },
  {
   "cell_type": "code",
   "execution_count": null,
   "id": "274ff05a-c233-4869-bd9d-c62d9b318753",
   "metadata": {},
   "outputs": [],
   "source": []
  },
  {
   "cell_type": "code",
   "execution_count": null,
   "id": "88c95ccc-51e7-4557-afaa-276a326f0e6d",
   "metadata": {},
   "outputs": [],
   "source": []
  },
  {
   "cell_type": "code",
   "execution_count": null,
   "id": "9bb1fb17-964f-46d5-b179-6dfe1bd5b32d",
   "metadata": {},
   "outputs": [],
   "source": []
  }
 ],
 "metadata": {
  "kernelspec": {
   "display_name": "Python 3 (ipykernel)",
   "language": "python",
   "name": "python3"
  },
  "language_info": {
   "codemirror_mode": {
    "name": "ipython",
    "version": 3
   },
   "file_extension": ".py",
   "mimetype": "text/x-python",
   "name": "python",
   "nbconvert_exporter": "python",
   "pygments_lexer": "ipython3",
   "version": "3.12.0"
  }
 },
 "nbformat": 4,
 "nbformat_minor": 5
}
