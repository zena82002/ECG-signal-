{
 "cells": [
  {
   "cell_type": "code",
   "execution_count": 2,
   "id": "cd8d0097-a36e-4557-95cd-2dd8fb72dada",
   "metadata": {},
   "outputs": [
    {
     "name": "stdout",
     "output_type": "stream",
     "text": [
      "Number of records with 'NORM' in scp_codes column: 9514\n",
      "Number of records with 'IMI' in scp_codes column: 2676\n"
     ]
    }
   ],
   "source": [
    "import pandas as pd\n",
    "import numpy as np\n",
    "import matplotlib.pyplot as plt\n",
    "import wfdb \n",
    "from collections import Counter\n",
    "from sklearn.preprocessing import LabelEncoder\n",
    "from imblearn.over_sampling import SMOTENC\n",
    "from sklearn.model_selection import StratifiedKFold\n",
    "#from ecgdetectors import Detectors\n",
    "from tensorflow import data \n",
    "import keras\n",
    "from keras.models import Sequential\n",
    "from keras.layers import Dense, Activation, Dropout, Conv1D, GlobalAveragePooling1D, MaxPooling1D\n",
    "from keras import regularizers\n",
    "from sklearn.model_selection import train_test_split\n",
    "\n",
    "# Load the CSV file into a DataFrame\n",
    "file_path = r\"ptbxl_database.csv\"\n",
    "data = pd.read_csv(file_path)\n",
    "\n",
    "# Count the number of rows where 'scp_codes' contains 'NORM'\n",
    "count_norm = data[data['scp_codes'].str.contains('NORM')].shape[0]\n",
    "\n",
    "# Count the number of rows where 'scp_codes' contains 'IMI'\n",
    "count_imi = data[data['scp_codes'].str.contains('IMI')].shape[0]\n",
    "\n",
    "# Print the results\n",
    "print(\"Number of records with 'NORM' in scp_codes column:\", count_norm)\n",
    "print(\"Number of records with 'IMI' in scp_codes column:\", count_imi)\n",
    "\n"
   ]
  },
  {
   "cell_type": "code",
   "execution_count": 5,
   "id": "0910dd54-264e-4d8a-8b8f-6b93c7b6a1f3",
   "metadata": {},
   "outputs": [
    {
     "name": "stdout",
     "output_type": "stream",
     "text": [
      "Dataset saved successfully.\n"
     ]
    }
   ],
   "source": [
    "import pandas as pd\n",
    "\n",
    "# Load the dataset\n",
    "data = pd.read_csv(r\"ptbxl_database.csv\")\n",
    "\n",
    "# Filter the dataset based on conditions\n",
    "filtered_data = data[(data['burst_noise'].isnull()) & \n",
    "                     (data['electrodes_problems'].isnull()) & \n",
    "                     (data['extra_beats'].isnull())]\n",
    "\n",
    "# Filter for records containing 'NORM' and 'IMI' in 'scp_codes' column\n",
    "norm_data = filtered_data[filtered_data['scp_codes'].str.contains('NORM')]\n",
    "imi_data = filtered_data[filtered_data['scp_codes'].str.contains('IMI')]\n",
    "\n",
    "# Take the same number of records for 'NORM' and 'IMI'\n",
    "min_records = min(norm_data.shape[0], imi_data.shape[0])\n",
    "norm_data = norm_data.sample(n=min_records, random_state=42)\n",
    "imi_data = imi_data.sample(n=min_records, random_state=42)\n",
    "\n",
    "# Concatenate the two subsets\n",
    "final_data = pd.concat([norm_data, imi_data])\n",
    "\n",
    "# Save the concatenated data to a new CSV file\n",
    "final_data.to_csv('New data.csv', index=False)\n",
    "\n",
    "# Print confirmation message\n",
    "print(\"Dataset saved successfully.\")"
   ]
  },
  {
   "cell_type": "code",
   "execution_count": null,
   "id": "1041f79e-2f4d-44e4-aea4-1f027039131e",
   "metadata": {},
   "outputs": [],
   "source": []
  }
 ],
 "metadata": {
  "kernelspec": {
   "display_name": "Python 3 (ipykernel)",
   "language": "python",
   "name": "python3"
  },
  "language_info": {
   "codemirror_mode": {
    "name": "ipython",
    "version": 3
   },
   "file_extension": ".py",
   "mimetype": "text/x-python",
   "name": "python",
   "nbconvert_exporter": "python",
   "pygments_lexer": "ipython3",
   "version": "3.12.0"
  }
 },
 "nbformat": 4,
 "nbformat_minor": 5
}
